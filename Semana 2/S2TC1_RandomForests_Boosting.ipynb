{
 "cells": [
  {
   "cell_type": "markdown",
   "metadata": {},
   "source": [
    "![image info](https://raw.githubusercontent.com/albahnsen/MIAD_ML_and_NLP/main/images/banner_1.png)"
   ]
  },
  {
   "cell_type": "markdown",
   "metadata": {},
   "source": [
    "# Taller: Construcción e implementación de modelos Bagging, Random Forest y XGBoost\n",
    "\n",
    "En este taller podrán poner en práctica sus conocimientos sobre la construcción e implementación de modelos de Bagging, Random Forest y XGBoost. El taller está constituido por 8 puntos, en los cuales deberan seguir las intrucciones de cada numeral para su desarrollo."
   ]
  },
  {
   "cell_type": "markdown",
   "metadata": {},
   "source": [
    "## Datos predicción precio de automóviles\n",
    "\n",
    "En este taller se usará el conjunto de datos de Car Listings de Kaggle donde cada observación representa el precio de un automóvil teniendo en cuenta distintas variables como año, marca, modelo, entre otras. El objetivo es predecir el precio del automóvil. Para más detalles puede visitar el siguiente enlace: [datos](https://www.kaggle.com/jpayne/852k-used-car-listings)."
   ]
  },
  {
   "cell_type": "code",
   "execution_count": 1,
   "metadata": {},
   "outputs": [],
   "source": [
    "import warnings\n",
    "warnings.filterwarnings('ignore')"
   ]
  },
  {
   "cell_type": "code",
   "execution_count": 2,
   "metadata": {},
   "outputs": [
    {
     "data": {
      "text/html": [
       "<div>\n",
       "<style scoped>\n",
       "    .dataframe tbody tr th:only-of-type {\n",
       "        vertical-align: middle;\n",
       "    }\n",
       "\n",
       "    .dataframe tbody tr th {\n",
       "        vertical-align: top;\n",
       "    }\n",
       "\n",
       "    .dataframe thead th {\n",
       "        text-align: right;\n",
       "    }\n",
       "</style>\n",
       "<table border=\"1\" class=\"dataframe\">\n",
       "  <thead>\n",
       "    <tr style=\"text-align: right;\">\n",
       "      <th></th>\n",
       "      <th>Price</th>\n",
       "      <th>Year</th>\n",
       "      <th>Mileage</th>\n",
       "      <th>M_Camry</th>\n",
       "      <th>M_Camry4dr</th>\n",
       "      <th>M_CamryBase</th>\n",
       "      <th>M_CamryL</th>\n",
       "      <th>M_CamryLE</th>\n",
       "      <th>M_CamrySE</th>\n",
       "      <th>M_CamryXLE</th>\n",
       "    </tr>\n",
       "  </thead>\n",
       "  <tbody>\n",
       "    <tr>\n",
       "      <th>7</th>\n",
       "      <td>21995</td>\n",
       "      <td>2014</td>\n",
       "      <td>6480</td>\n",
       "      <td>0</td>\n",
       "      <td>0</td>\n",
       "      <td>0</td>\n",
       "      <td>1</td>\n",
       "      <td>0</td>\n",
       "      <td>0</td>\n",
       "      <td>0</td>\n",
       "    </tr>\n",
       "    <tr>\n",
       "      <th>11</th>\n",
       "      <td>13995</td>\n",
       "      <td>2014</td>\n",
       "      <td>39972</td>\n",
       "      <td>0</td>\n",
       "      <td>0</td>\n",
       "      <td>0</td>\n",
       "      <td>0</td>\n",
       "      <td>1</td>\n",
       "      <td>0</td>\n",
       "      <td>0</td>\n",
       "    </tr>\n",
       "    <tr>\n",
       "      <th>167</th>\n",
       "      <td>17941</td>\n",
       "      <td>2016</td>\n",
       "      <td>18989</td>\n",
       "      <td>0</td>\n",
       "      <td>0</td>\n",
       "      <td>0</td>\n",
       "      <td>0</td>\n",
       "      <td>0</td>\n",
       "      <td>1</td>\n",
       "      <td>0</td>\n",
       "    </tr>\n",
       "    <tr>\n",
       "      <th>225</th>\n",
       "      <td>12493</td>\n",
       "      <td>2014</td>\n",
       "      <td>51330</td>\n",
       "      <td>0</td>\n",
       "      <td>0</td>\n",
       "      <td>0</td>\n",
       "      <td>1</td>\n",
       "      <td>0</td>\n",
       "      <td>0</td>\n",
       "      <td>0</td>\n",
       "    </tr>\n",
       "    <tr>\n",
       "      <th>270</th>\n",
       "      <td>7994</td>\n",
       "      <td>2007</td>\n",
       "      <td>116065</td>\n",
       "      <td>0</td>\n",
       "      <td>1</td>\n",
       "      <td>0</td>\n",
       "      <td>0</td>\n",
       "      <td>0</td>\n",
       "      <td>0</td>\n",
       "      <td>0</td>\n",
       "    </tr>\n",
       "  </tbody>\n",
       "</table>\n",
       "</div>"
      ],
      "text/plain": [
       "     Price  Year  Mileage  M_Camry  M_Camry4dr  M_CamryBase  M_CamryL  \\\n",
       "7    21995  2014     6480        0           0            0         1   \n",
       "11   13995  2014    39972        0           0            0         0   \n",
       "167  17941  2016    18989        0           0            0         0   \n",
       "225  12493  2014    51330        0           0            0         1   \n",
       "270   7994  2007   116065        0           1            0         0   \n",
       "\n",
       "     M_CamryLE  M_CamrySE  M_CamryXLE  \n",
       "7            0          0           0  \n",
       "11           1          0           0  \n",
       "167          0          1           0  \n",
       "225          0          0           0  \n",
       "270          0          0           0  "
      ]
     },
     "execution_count": 2,
     "metadata": {},
     "output_type": "execute_result"
    }
   ],
   "source": [
    "# Importación de librerías\n",
    "%matplotlib inline\n",
    "import pandas as pd\n",
    "import numpy as np\n",
    "\n",
    "# Lectura de la información de archivo .csv\n",
    "data = pd.read_csv('https://raw.githubusercontent.com/albahnsen/MIAD_ML_and_NLP/main/datasets/dataTrain_carListings.zip')\n",
    "\n",
    "# Preprocesamiento de datos para el taller\n",
    "data = data.loc[data['Model'].str.contains('Camry')].drop(['Make', 'State'], axis=1)\n",
    "data = data.join(pd.get_dummies(data['Model'], prefix='M'))\n",
    "data = data.drop(['Model'], axis=1)\n",
    "\n",
    "# Visualización dataset\n",
    "data.head()"
   ]
  },
  {
   "cell_type": "code",
   "execution_count": 14,
   "metadata": {},
   "outputs": [
    {
     "name": "stdout",
     "output_type": "stream",
     "text": [
      "Price          int64\n",
      "Year           int64\n",
      "Mileage        int64\n",
      "M_Camry        uint8\n",
      "M_Camry4dr     uint8\n",
      "M_CamryBase    uint8\n",
      "M_CamryL       uint8\n",
      "M_CamryLE      uint8\n",
      "M_CamrySE      uint8\n",
      "M_CamryXLE     uint8\n",
      "dtype: object\n",
      "              Price          Year        Mileage       M_Camry    M_Camry4dr  \\\n",
      "count  10495.000000  10495.000000   10495.000000  10495.000000  10495.000000   \n",
      "mean   14538.403716   2013.553883   52509.430395      0.056313      0.158456   \n",
      "std     3922.420961      3.116585   36791.736601      0.230535      0.365186   \n",
      "min     5002.000000   1998.000000       5.000000      0.000000      0.000000   \n",
      "25%    11999.000000   2012.000000   26461.000000      0.000000      0.000000   \n",
      "50%    15000.000000   2014.000000   41680.000000      0.000000      0.000000   \n",
      "75%    16999.000000   2016.000000   71355.500000      0.000000      0.000000   \n",
      "max    32444.000000   2018.000000  232658.000000      1.000000      1.000000   \n",
      "\n",
      "        M_CamryBase      M_CamryL     M_CamryLE     M_CamrySE    M_CamryXLE  \n",
      "count  10495.000000  10495.000000  10495.000000  10495.000000  10495.000000  \n",
      "mean       0.012292      0.048213      0.236494      0.376370      0.111863  \n",
      "std        0.110189      0.214227      0.424949      0.484498      0.315213  \n",
      "min        0.000000      0.000000      0.000000      0.000000      0.000000  \n",
      "25%        0.000000      0.000000      0.000000      0.000000      0.000000  \n",
      "50%        0.000000      0.000000      0.000000      0.000000      0.000000  \n",
      "75%        0.000000      0.000000      0.000000      1.000000      0.000000  \n",
      "max        1.000000      1.000000      1.000000      1.000000      1.000000  \n"
     ]
    }
   ],
   "source": [
    "print(data.dtypes)\n",
    "print(data.describe())"
   ]
  },
  {
   "cell_type": "code",
   "execution_count": 15,
   "metadata": {},
   "outputs": [],
   "source": [
    "# Separación de variables predictoras (X) y variable de interés (y)\n",
    "y = (data.Price > 14538).astype(int)#data['Price']\n",
    "X = data.drop(['Price'], axis=1)"
   ]
  },
  {
   "cell_type": "code",
   "execution_count": 16,
   "metadata": {},
   "outputs": [],
   "source": [
    "# Separación de datos en set de entrenamiento y test\n",
    "from sklearn.model_selection import train_test_split\n",
    "X_train, X_test, y_train, y_test = train_test_split(X, y, test_size=0.33, random_state=42)"
   ]
  },
  {
   "cell_type": "markdown",
   "metadata": {},
   "source": [
    "### Punto 1 - Árbol de decisión manual\n",
    "\n",
    "En la celda 1 creen un árbol de decisión **manualmente**  que considere los set de entrenamiento y test definidos anteriormente y presenten el RMSE y MAE del modelo en el set de test."
   ]
  },
  {
   "cell_type": "code",
   "execution_count": 6,
   "metadata": {},
   "outputs": [
    {
     "name": "stdout",
     "output_type": "stream",
     "text": [
      "Mileage\n"
     ]
    }
   ],
   "source": [
    "# Celda 1\n",
    "# Definición de parámetros y criterios de parada\n",
    "max_depth = None\n",
    "num_pct = 10\n",
    "max_features = None\n",
    "min_gain=0.001\n",
    "# Impresión variable a usar (Hits)\n",
    "j = 1\n",
    "print(X.columns[j])"
   ]
  },
  {
   "cell_type": "code",
   "execution_count": 7,
   "metadata": {},
   "outputs": [
    {
     "data": {
      "text/plain": [
       "array([5.000000e+00, 1.576440e+04, 2.345860e+04, 2.993760e+04,\n",
       "       3.570080e+04, 4.168000e+04, 4.824700e+04, 6.171600e+04,\n",
       "       8.153420e+04, 1.067578e+05])"
      ]
     },
     "execution_count": 7,
     "metadata": {},
     "output_type": "execute_result"
    }
   ],
   "source": [
    "# División de la variable Millas en num_ctp puntos (parámetro definido anteriormente) para obtener posibles puntos de corte\n",
    "splits = np.percentile(X.iloc[:, j], np.arange(0, 100, 100.0 / num_pct).tolist())\n",
    "splits = np.unique(splits)\n",
    "splits"
   ]
  },
  {
   "cell_type": "code",
   "execution_count": 8,
   "metadata": {},
   "outputs": [],
   "source": [
    "# División de las observaciones usando el punto de corte en la posición 5 de la lista de splits\n",
    "k=5\n",
    "filter_l = X.iloc[:, j] < splits[k]\n",
    "\n",
    "# División de la variable de respuesta de acuerdo a si la observación cumple o no con la regla binaria\n",
    "# y_l: la observación tiene un valor menor al punto de corte seleccionado\n",
    "# y_r: la observación tiene un valor mayor o igual al punto de corte seleccionado\n",
    "y_l = y.loc[filter_l]\n",
    "y_r = y.loc[~filter_l]"
   ]
  },
  {
   "cell_type": "code",
   "execution_count": 9,
   "metadata": {},
   "outputs": [],
   "source": [
    "# Definición de la función que calcula el gini index\n",
    "def gini(y):\n",
    "    if y.shape[0] == 0:\n",
    "        return 0\n",
    "    else:\n",
    "        return 1 - (y.mean()**2 + (1 - y.mean())**2)"
   ]
  },
  {
   "cell_type": "code",
   "execution_count": 10,
   "metadata": {},
   "outputs": [
    {
     "name": "stdout",
     "output_type": "stream",
     "text": [
      "el gini de la izquierda es:-584221909.9546928\n",
      "el gini de la derecha es:-287282376.9689342\n"
     ]
    }
   ],
   "source": [
    "# Gini index de las observaciones que tienen un valor menor al punto de corte seleccionado\n",
    "gini_l = gini(y_l)\n",
    "print(f'el gini de la izquierda es:{gini_l}')\n",
    "\n",
    "# Gini index de las observaciones que tienen un valor mayor o igual al punto de corte seleccionado\n",
    "gini_r = gini(y_r)\n",
    "print(f'el gini de la derecha es:{gini_r}')"
   ]
  },
  {
   "cell_type": "code",
   "execution_count": 11,
   "metadata": {},
   "outputs": [],
   "source": [
    "# Definición de la función gini_imputiry para calular la ganancia de una variable predictora j dado el punto de corte k\n",
    "def gini_impurity(X_col, y, split):\n",
    "    \n",
    "    filter_l = X_col < split\n",
    "    y_l = y.loc[filter_l]\n",
    "    y_r = y.loc[~filter_l]\n",
    "    \n",
    "    n_l = y_l.shape[0]\n",
    "    n_r = y_r.shape[0]\n",
    "    \n",
    "    gini_y = gini(y)\n",
    "    gini_l = gini(y_l)\n",
    "    gini_r = gini(y_r)\n",
    "    \n",
    "    gini_impurity_ = gini_y - (n_l / (n_l + n_r) * gini_l + n_r / (n_l + n_r) * gini_r)\n",
    "    \n",
    "    return gini_impurity_"
   ]
  },
  {
   "cell_type": "code",
   "execution_count": 12,
   "metadata": {},
   "outputs": [
    {
     "data": {
      "text/plain": [
       "13036708.332934737"
      ]
     },
     "execution_count": 12,
     "metadata": {},
     "output_type": "execute_result"
    }
   ],
   "source": [
    "# Ganancia de la variable 'Milage' en el punto de corte selecionado\n",
    "gini_impurity(X.iloc[:, j], y, splits[k])"
   ]
  },
  {
   "cell_type": "code",
   "execution_count": 13,
   "metadata": {},
   "outputs": [],
   "source": [
    "# Definición de la función best_split para calcular cuál es la mejor variable y punto de cortepara hacer la bifurcación del árbol\n",
    "def best_split(X, y, num_pct=10):\n",
    "    \n",
    "    features = range(X.shape[1])\n",
    "    \n",
    "    best_split = [0, 0, 0]  # j, split, gain\n",
    "    \n",
    "    # Para todas las varibles \n",
    "    for j in features:\n",
    "        \n",
    "        splits = np.percentile(X.iloc[:, j], np.arange(0, 100, 100.0 / (num_pct+1)).tolist())\n",
    "        splits = np.unique(splits)[1:]\n",
    "        \n",
    "        # Para cada partición\n",
    "        for split in splits:\n",
    "            gain = gini_impurity(X.iloc[:, j], y, split)\n",
    "                        \n",
    "            if gain > best_split[2]:\n",
    "                best_split = [j, split, gain]\n",
    "    \n",
    "    return best_split"
   ]
  },
  {
   "cell_type": "code",
   "execution_count": 14,
   "metadata": {},
   "outputs": [
    {
     "data": {
      "text/plain": [
       "(0, 2014.0, 17349239.621991813)"
      ]
     },
     "execution_count": 14,
     "metadata": {},
     "output_type": "execute_result"
    }
   ],
   "source": [
    "# Obtención de la variable 'j', su punto de corte 'split' y su ganancia 'gain'\n",
    "j, split, gain = best_split(X, y, 5)\n",
    "j, split, gain\n"
   ]
  },
  {
   "cell_type": "code",
   "execution_count": 15,
   "metadata": {},
   "outputs": [
    {
     "data": {
      "text/plain": [
       "(10495, 5247, 5248)"
      ]
     },
     "execution_count": 15,
     "metadata": {},
     "output_type": "execute_result"
    }
   ],
   "source": [
    "y.shape[0], y_l.shape[0], y_r.shape[0]"
   ]
  },
  {
   "cell_type": "code",
   "execution_count": 16,
   "metadata": {},
   "outputs": [
    {
     "data": {
      "text/plain": [
       "(14538.403716055265, 17091.75376405565, 11985.540205792682)"
      ]
     },
     "execution_count": 16,
     "metadata": {},
     "output_type": "execute_result"
    }
   ],
   "source": [
    "y.mean(), y_l.mean(), y_r.mean()"
   ]
  },
  {
   "cell_type": "code",
   "execution_count": 61,
   "metadata": {},
   "outputs": [
    {
     "name": "stdout",
     "output_type": "stream",
     "text": [
      "RMSE del arbol de desición Manual: 0.5249123731644767\n",
      "MAE del arbol de desición Manual: 0.516305646253086\n"
     ]
    }
   ],
   "source": [
    "import numpy as np\n",
    "\n",
    "# Definir reglas de decisión\n",
    "if X_train['M_Camry'].sum() > 0:\n",
    "    #Si es un Toyota Camry, predecir el precio medio\n",
    "    y_pred = np.ones(len(X_test)) * y_train[X_train['M_Camry'] == 1].mean()\n",
    "else:\n",
    "    #Si no es un Toyota Camry, predecir el precio mediano\n",
    "    y_pred = np.ones(len(X_test)) * y_train[X_train['M_Camry'] == 0].median()\n",
    "\n",
    "# Calcular métricas de evaluación RMSE y MAE\n",
    "from sklearn.metrics import mean_squared_error, mean_absolute_error, accuracy_score\n",
    "rmse = np.sqrt(mean_squared_error(y_test, y_pred))\n",
    "mae = mean_absolute_error(y_test, y_pred)\n",
    "#accuracy = accuracy_score(y_test, y_pred)\n",
    "\n",
    "# Calcular métricas de evaluación RMSE y MAE\n",
    "#rmse = np.sqrt(np.mean((y_true - y_pred) ** 2))\n",
    "#mae = np.mean(np.abs(y_true - y_pred))\n",
    "\n",
    "# Imprimir resultados\n",
    "print(f'RMSE del arbol de desición Manual: {rmse}')\n",
    "print(f'MAE del arbol de desición Manual: {mae}')\n",
    "#print(f'El Accuracy para el modelo Arbolde desición Manuales: {accuracy}')\n"
   ]
  },
  {
   "cell_type": "markdown",
   "metadata": {},
   "source": [
    "### Punto 2 - Bagging manual\n",
    "\n",
    "En la celda 2 creen un modelo bagging **manualmente** con 10 árboles de clasificación y comenten sobre el desempeño del modelo."
   ]
  },
  {
   "cell_type": "code",
   "execution_count": 18,
   "metadata": {},
   "outputs": [
    {
     "name": "stdout",
     "output_type": "stream",
     "text": [
      "El RMSE para el modelo Bagging manual es: 4292969.388178406\n",
      "El MAE para el modelo Bagging manual es: 1535.7220842956121\n"
     ]
    }
   ],
   "source": [
    "# Celda 2\n",
    "from sklearn.tree import DecisionTreeClassifier\n",
    "\n",
    "# Definir función para crear y ajustar un árbol de decisión\n",
    "def fit_tree(X_train, y_train, X_test):\n",
    "    tree = DecisionTreeClassifier(max_depth=3)\n",
    "    tree.fit(X_train, y_train)\n",
    "    y_pred = tree.predict(X_test)\n",
    "    return y_pred\n",
    "\n",
    "# Crear 10 instancias de la función de árbol de decisión con diferentes conjuntos de entrenamiento\n",
    "n_trees = 10\n",
    "y_preds = []\n",
    "for i in range(n_trees):\n",
    "    sample_indices = np.random.choice(X_train.index, len(X_train))\n",
    "    X_sample = X_train.loc[sample_indices]\n",
    "    y_sample = y_train.loc[sample_indices]\n",
    "    y_pred = fit_tree(X_sample, y_sample, X_test)\n",
    "    y_preds.append(y_pred)\n",
    "\n",
    "# Promediar las predicciones de cada árbol para obtener una predicción final\n",
    "y_pred = np.mean(y_preds, axis=0)\n",
    "\n",
    "from sklearn.metrics import mean_absolute_error, mean_squared_error, accuracy_score\n",
    "\n",
    "# Calcular MAE y MSE\n",
    "maeBaggManual = mean_absolute_error(y_test, y_pred)\n",
    "rmseBaggManual = mean_squared_error(y_test, y_pred)\n",
    "\n",
    "# Imprimir resultados\n",
    "print(f'El RMSE para el modelo Bagging manual es: {rmseBaggManual}')\n",
    "print(f'El MAE para el modelo Bagging manual es: {maeBaggManual}')\n",
    "\n"
   ]
  },
  {
   "cell_type": "markdown",
   "metadata": {},
   "source": [
    "### Punto 3 - Bagging con librería\n",
    "\n",
    "En la celda 3, con la librería sklearn, entrenen un modelo bagging con 10 árboles de clasificación y el parámetro `max_features` igual a `log(n_features)` y comenten sobre el desempeño del modelo."
   ]
  },
  {
   "cell_type": "code",
   "execution_count": 19,
   "metadata": {},
   "outputs": [
    {
     "name": "stdout",
     "output_type": "stream",
     "text": [
      "El RMSE para el modelo Bagging es: 5568847.272228638\n",
      "El MAE para el modelo Bagging es: 1780.3657621247114\n",
      "El Accuracy para el modelo Bagging es: 0.021939953810623556\n"
     ]
    }
   ],
   "source": [
    "# Celda 3\n",
    "from sklearn.ensemble import BaggingClassifier\n",
    "from sklearn.tree import DecisionTreeClassifier\n",
    "\n",
    "# Crear modelo de Bagging con 10 árboles de clasificación y max_features=log(n_features)\n",
    "n_features = X_train.shape[1]\n",
    "max_features = int(np.log2(n_features))\n",
    "bagging = BaggingClassifier(\n",
    "    DecisionTreeClassifier(max_depth=3),\n",
    "    n_estimators=10,\n",
    "    max_features=max_features,\n",
    "    random_state=42\n",
    ")\n",
    "\n",
    "# Entrenar modelo con los datos de entrenamiento\n",
    "bagging.fit(X_train, y_train)\n",
    "\n",
    "# Evaluar modelo con los datos de prueba\n",
    "from sklearn.metrics import mean_absolute_error, mean_squared_error,accuracy_score\n",
    "y_pred_bagg = bagging.predict(X_test)\n",
    "maeBagg = mean_absolute_error(y_test, y_pred_bagg)\n",
    "rmseBagg = mean_squared_error(y_test, y_pred_bagg)\n",
    "accuracyBagg = accuracy_score(y_test, y_pred_bagg)\n",
    "\n",
    "# Imprimir resultado\n",
    "print(f'El RMSE para el modelo Bagging es: {rmseBagg}')\n",
    "print(f'El MAE para el modelo Bagging es: {maeBagg}')\n",
    "print(f'El Accuracy para el modelo Bagging es: {accuracyBagg}')"
   ]
  },
  {
   "cell_type": "markdown",
   "metadata": {},
   "source": [
    "### Punto 4 - Random forest con librería\n",
    "\n",
    "En la celda 4, usando la librería sklearn entrenen un modelo de Randon Forest para clasificación  y comenten sobre el desempeño del modelo."
   ]
  },
  {
   "cell_type": "code",
   "execution_count": 17,
   "metadata": {},
   "outputs": [
    {
     "name": "stdout",
     "output_type": "stream",
     "text": [
      "El RMSE para el modelo Random Forest es: 0.15675519630484988\n",
      "El MAE para el modelo Random Forest es: 0.15675519630484988\n",
      "El Accuracy para el modelo Random Forest es: 0.8432448036951501\n"
     ]
    }
   ],
   "source": [
    "# Celda 4\n",
    "from sklearn.ensemble import RandomForestClassifier\n",
    "from sklearn.model_selection import cross_val_score\n",
    "\n",
    "# Crear modelo de Random Forest \n",
    "rf = RandomForestClassifier()\n",
    "\n",
    "# Entrenar modelo con los datos de entrenamiento\n",
    "rf.fit(X_train, y_train)\n",
    "\n",
    "# Evaluar modelo con los datos de prueba\n",
    "from sklearn.metrics import mean_absolute_error, mean_squared_error,accuracy_score\n",
    "y_pred_rf = rf.predict(X_test)\n",
    "maeRF= mean_absolute_error(y_test, y_pred_rf)\n",
    "rmseRF= mean_squared_error(y_test, y_pred_rf)\n",
    "accuracyRF = accuracy_score(y_test, y_pred_rf)\n",
    "\n",
    "# Imprimir resultado\n",
    "print(f'El RMSE para el modelo Random Forest es: {rmseRF}')\n",
    "print(f'El MAE para el modelo Random Forest es: {maeRF}')\n",
    "print(f'El Accuracy para el modelo Random Forest es: {accuracyRF}')"
   ]
  },
  {
   "cell_type": "markdown",
   "metadata": {},
   "source": [
    "### Punto 5 - Calibración de parámetros Random forest\n",
    "\n",
    "En la celda 5, calibren los parámetros max_depth, max_features y n_estimators del modelo de Randon Forest para clasificación, comenten sobre el desempeño del modelo y describan cómo cada parámetro afecta el desempeño del modelo."
   ]
  },
  {
   "cell_type": "code",
   "execution_count": 55,
   "metadata": {},
   "outputs": [
    {
     "name": "stdout",
     "output_type": "stream",
     "text": [
      "El valor máximo de accuracy_scores es 0.8414483087184375 con un n_estimators de 20\n"
     ]
    }
   ],
   "source": [
    "# Celda 5\n",
    "# Creación de lista de valores para iterar sobre diferentes valores de n_estimators\n",
    "estimator_range = range(10, 310, 10)\n",
    "\n",
    "# Definición de lista para almacenar la exactitud (accuracy) promedio para cada valor de n_estimators\n",
    "accuracy_scores = []\n",
    "\n",
    "# Uso de un 5-fold cross-validation para cada valor de n_estimators\n",
    "for estimator in estimator_range:\n",
    "    rf = RandomForestClassifier(n_estimators=estimator, random_state=1, n_jobs=-1)\n",
    "    accuracy_scores.append(cross_val_score(rf, X, y, cv=5, scoring='accuracy').mean())\n",
    "\n",
    "max_accuracy = max(accuracy_scores)\n",
    "max_index = accuracy_scores.index(max_accuracy)\n",
    "max_estimator = estimator_range[max_index]\n",
    "\n",
    "print(f'El valor máximo de accuracy_scores es: {max_accuracy},con un n_estimators de: {max_estimator}')\n"
   ]
  },
  {
   "cell_type": "code",
   "execution_count": 27,
   "metadata": {},
   "outputs": [
    {
     "data": {
      "text/plain": [
       "Text(0, 0.5, 'Accuracy')"
      ]
     },
     "execution_count": 27,
     "metadata": {},
     "output_type": "execute_result"
    },
    {
     "data": {
      "image/png": "[encoded data removed]",
      "text/plain": [
       "<Figure size 640x480 with 1 Axes>"
      ]
     },
     "metadata": {},
     "output_type": "display_data"
    }
   ],
   "source": [
    "# Gráfica del desempeño del modelo vs la cantidad de n_estimators\n",
    "import matplotlib.pyplot as plt\n",
    "plt.plot(estimator_range, accuracy_scores)\n",
    "plt.xlabel('n_estimators')\n",
    "plt.ylabel('Accuracy')\n"
   ]
  },
  {
   "cell_type": "code",
   "execution_count": 54,
   "metadata": {},
   "outputs": [
    {
     "data": {
      "text/plain": [
       "Index(['Year', 'Mileage', 'M_Camry', 'M_Camry4dr', 'M_CamryBase', 'M_CamryL',\n",
       "       'M_CamryLE', 'M_CamrySE', 'M_CamryXLE'],\n",
       "      dtype='object')"
      ]
     },
     "execution_count": 54,
     "metadata": {},
     "output_type": "execute_result"
    }
   ],
   "source": [
    "# Selección de variables predictoras\n",
    "#print(X)\n",
    "feature_cols = data.columns.drop('Price')\n",
    "feature_cols"
   ]
  },
  {
   "cell_type": "code",
   "execution_count": 56,
   "metadata": {},
   "outputs": [
    {
     "name": "stdout",
     "output_type": "stream",
     "text": [
      "El valor máximo de accuracy_scores es: 0.851357789423535,con un max_feature de: 9\n"
     ]
    }
   ],
   "source": [
    "# Creación de lista de valores para iterar sobre diferentes valores de max_features\n",
    "feature_range = range(1, len(feature_cols)+1)\n",
    "\n",
    "# Definición de lista para almacenar la exactitud (accuracy) promedio para cada valor de max_features\n",
    "accuracy_scores = []\n",
    "\n",
    "# Uso de un 10-fold cross-validation para cada valor de max_features\n",
    "for feature in feature_range:\n",
    "    rf = RandomForestClassifier(n_estimators=200, max_features=feature, random_state=1, n_jobs=-1)\n",
    "    accuracy_scores.append(cross_val_score(rf, X, y, cv=5, scoring='accuracy').mean())\n",
    "\n",
    "max_accuracy = max(accuracy_scores)\n",
    "max_index = accuracy_scores.index(max_accuracy)\n",
    "max_feature = feature_range[max_index]\n",
    "\n",
    "print(f'El valor máximo de accuracy_scores es: {max_accuracy},con un max_feature de: {max_feature}')\n"
   ]
  },
  {
   "cell_type": "code",
   "execution_count": 57,
   "metadata": {},
   "outputs": [
    {
     "data": {
      "text/plain": [
       "Text(0, 0.5, 'Accuracy')"
      ]
     },
     "execution_count": 57,
     "metadata": {},
     "output_type": "execute_result"
    },
    {
     "data": {
      "image/png": "[encoded data removed]",
      "text/plain": [
       "<Figure size 640x480 with 1 Axes>"
      ]
     },
     "metadata": {},
     "output_type": "display_data"
    }
   ],
   "source": [
    "\n",
    "# Gráfica del desempeño del modelo vs la cantidad de max_features\n",
    "plt.plot(feature_range, accuracy_scores)\n",
    "plt.xlabel('max_features')\n",
    "plt.ylabel('Accuracy')"
   ]
  },
  {
   "cell_type": "code",
   "execution_count": 68,
   "metadata": {},
   "outputs": [
    {
     "name": "stdout",
     "output_type": "stream",
     "text": [
      "El valor máximo de accuracy_scores es: nan, con un max_depth de: 1\n"
     ]
    },
    {
     "data": {
      "text/plain": [
       "Text(0, 0.5, 'Accuracy')"
      ]
     },
     "execution_count": 68,
     "metadata": {},
     "output_type": "execute_result"
    },
    {
     "data": {
      "image/png": "[encoded data removed]",
      "text/plain": [
       "<Figure size 640x480 with 1 Axes>"
      ]
     },
     "metadata": {},
     "output_type": "display_data"
    }
   ],
   "source": [
    "# Creación de lista de valores para iterar sobre diferentes valores de max_depth\n",
    "depth_range = range(1,51,5)\n",
    "# Definición de lista para almacenar la exactitud (accuracy) promedio para cada valor de max_depth\n",
    "accuracy_scores = []\n",
    "\n",
    "# Uso de un 5-fold cross-validation para cada valor de max_depth\n",
    "for depth in depth_range:\n",
    "    rf = RandomForestClassifier(n_estimators=200, max_features=100, max_depth=depth, random_state=1)\n",
    "    accuracy_scores.append(cross_val_score(rf, X, y, cv=5, scoring='accuracy').mean())\n",
    "\n",
    "max_accuracy = max(accuracy_scores)\n",
    "max_index = accuracy_scores.index(max_accuracy)\n",
    "max_depth = depth_range[max_index]\n",
    "\n",
    "print(f'El valor máximo de accuracy_scores es: {max_accuracy}, con un max_depth de: {max_depth}')\n",
    "\n",
    "# Gráfica del desempeño del modelo vs la cantidad de max_depth\n",
    "plt.plot(depth_range, accuracy_scores)\n",
    "plt.xlabel('max_depth')\n",
    "plt.ylabel('Accuracy')\n"
   ]
  },
  {
   "cell_type": "code",
   "execution_count": null,
   "metadata": {},
   "outputs": [
    {
     "name": "stdout",
     "output_type": "stream",
     "text": [
      "El RMSE para el modelo Random Forest es: 0.14174364896073904\n",
      "El MAE para el modelo Random Forest es: 0.14174364896073904\n",
      "El Accuracy para el modelo Random Forest es: 0.858256351039261\n"
     ]
    }
   ],
   "source": [
    "from sklearn.ensemble import RandomForestClassifier\n",
    "from sklearn.model_selection import cross_val_score\n",
    "\n",
    "# Definición del modelo con los parámetros max_features, max_depth y n_estimators \n",
    "rfp = RandomForestClassifier(n_estimators=20, max_features=9, max_depth= 1)\n",
    "\n",
    "# Entrenar modelo con los datos de entrenamiento\n",
    "rfp.fit(X_train, y_train)\n",
    "\n",
    "# Evaluar modelo con los datos de prueba\n",
    "from sklearn.metrics import accuracy_score\n",
    "y_pred_rfp = rfp.predict(X_test)\n",
    "maeRFP= mean_absolute_error(y_test, y_pred_rfp)\n",
    "rmseRFP= mean_squared_error(y_test, y_pred_rfp)\n",
    "accuracyRFP = accuracy_score(y_test, y_pred_rfp)\n",
    "\n",
    "# Imprimir resultado\n",
    "print(f'El RMSE para el modelo Random Forest es: {rmseRFP}')\n",
    "print(f'El MAE para el modelo Random Forest es: {maeRFP}')\n",
    "print(f'El Accuracy para el modelo Random Forest es: {accuracyRFP}')\n"
   ]
  },
  {
   "cell_type": "markdown",
   "metadata": {},
   "source": [
    "### Punto 6 - XGBoost con librería\n",
    "\n",
    "En la celda 6 implementen un modelo XGBoost de clasificación con la librería sklearn y comenten sobre el desempeño del modelo."
   ]
  },
  {
   "cell_type": "code",
   "execution_count": 70,
   "metadata": {},
   "outputs": [
    {
     "name": "stdout",
     "output_type": "stream",
     "text": [
      "El Accuracy para el modelo XGBoost es: 0.8856812933025404\n"
     ]
    }
   ],
   "source": [
    "# Celda 6\n",
    "from xgboost import XGBClassifier\n",
    "from sklearn.metrics import accuracy_score\n",
    "\n",
    "# Crear modelo XGBoost de clasificación\n",
    "xgb = XGBClassifier(random_state=42)\n",
    "\n",
    "# Entrenar modelo con los datos de entrenamiento\n",
    "xgb.fit(X_train, y_train)\n",
    "\n",
    "# Realizar predicciones sobre los datos de prueba\n",
    "y_pred = xgb.predict(X_test)\n",
    "\n",
    "# Calcular precisión del modelo en los datos de prueba\n",
    "accuracyXGB = accuracy_score(y_test, y_pred)\n",
    "print(f'El Accuracy para el modelo XGBoost es: {accuracyXGB}')"
   ]
  },
  {
   "cell_type": "markdown",
   "metadata": {},
   "source": [
    "### Punto 7 - Calibración de parámetros XGBoost\n",
    "\n",
    "En la celda 7 calibren los parámetros learning rate, gamma y colsample_bytree del modelo XGBoost para clasificación, comenten sobre el desempeño del modelo y describan cómo cada parámetro afecta el desempeño del modelo."
   ]
  },
  {
   "cell_type": "code",
   "execution_count": 69,
   "metadata": {},
   "outputs": [
    {
     "name": "stdout",
     "output_type": "stream",
     "text": [
      "El Accuracy para el modelo XGBoost con paremetors calibrados es: 0.8856812933025404\n"
     ]
    }
   ],
   "source": [
    "# Celda 7\n",
    "from xgboost import XGBClassifier\n",
    "from sklearn.metrics import accuracy_score\n",
    "\n",
    "# Crear modelo XGBoost de clasificación\n",
    "xgb = XGBClassifier(random_state=42)\n",
    "\n",
    "# Entrenar modelo con los datos de entrenamiento\n",
    "xgb.fit(X_train, y_train)\n",
    "\n",
    "# Realizar predicciones sobre los datos de prueba\n",
    "y_pred = xgb.predict(X_test)\n",
    "\n",
    "# Calcular precisión del modelo en los datos de prueba\n",
    "accuracyXGBP = accuracy_score(y_test, y_pred)\n",
    "\n",
    "print(f'El Accuracy para el modelo XGBoost con paremetors calibrados es: {accuracyXGBP}')"
   ]
  },
  {
   "cell_type": "code",
   "execution_count": 74,
   "metadata": {},
   "outputs": [
    {
     "name": "stdout",
     "output_type": "stream",
     "text": [
      "Mejores parámetros: {'colsample_bytree': 0.7, 'gamma': 0.5, 'learning_rate': 0.01}\n",
      "Mejor desempeño en validación cruzada: 0.881\n",
      "Desempeño en test con los mejores parámetros: 0.887\n",
      "El Accuracy para el modelo XGBoost con paremetors calibrados es: 0.8868360277136259\n"
     ]
    }
   ],
   "source": [
    "import xgboost as xgb\n",
    "from sklearn.model_selection import GridSearchCV\n",
    "\n",
    "# Definición del clasificador XGBoost\n",
    "xgb_param = xgb.XGBClassifier()\n",
    "\n",
    "# Definición de la grilla de valores para cada parámetro\n",
    "params = {'learning_rate': [0.01, 0.1, 0.3],\n",
    "          'gamma': [0, 0.1, 0.5],\n",
    "          'colsample_bytree': [0.5, 0.7, 1.0]}\n",
    "\n",
    "# Búsqueda en cuadrícula con validación cruzada\n",
    "grid_search = GridSearchCV(estimator=xgb_param, param_grid=params, scoring='accuracy', cv=5)\n",
    "\n",
    "# Ajuste del modelo con los datos de entrenamiento\n",
    "grid_search.fit(X_train, y_train)\n",
    "\n",
    "# Selección de los mejores parámetros y su desempeño\n",
    "best_params = grid_search.best_params_\n",
    "best_score = grid_search.best_score_\n",
    "\n",
    "# Evaluación del modelo con los datos de test\n",
    "y_pred = grid_search.predict(X_test)\n",
    "accuracyXGBP = accuracy_score(y_test, y_pred)\n",
    "\n",
    "# Impresión de resultados\n",
    "print(f\"Mejores parámetros: {best_params}\")\n",
    "print(f\"Mejor desempeño en validación cruzada: {best_score:.3f}\")\n",
    "print(f'El Accuracy para el modelo XGBoost con paremetors calibrados es: {accuracyXGBP:.3f}')"
   ]
  },
  {
   "cell_type": "markdown",
   "metadata": {},
   "source": [
    "### Punto 8 - Comparación y análisis de resultados\n",
    "En la celda 8 comparen los resultados obtenidos de los diferentes modelos (random forest y XGBoost) y comenten las ventajas del mejor modelo y las desventajas del modelo con el menor desempeño."
   ]
  },
  {
   "cell_type": "code",
   "execution_count": 72,
   "metadata": {},
   "outputs": [],
   "source": [
    "#Celda 8\n",
    "\n"
   ]
  },
  {
   "cell_type": "markdown",
   "metadata": {},
   "source": []
  }
 ],
 "metadata": {
  "kernelspec": {
   "display_name": "Python 3 (ipykernel)",
   "language": "python",
   "name": "python3"
  },
  "language_info": {
   "codemirror_mode": {
    "name": "ipython",
    "version": 3
   },
   "file_extension": ".py",
   "mimetype": "text/x-python",
   "name": "python",
   "nbconvert_exporter": "python",
   "pygments_lexer": "ipython3",
   "version": "3.9.13"
  }
 },
 "nbformat": 4,
 "nbformat_minor": 4
}
